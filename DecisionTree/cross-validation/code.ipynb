{
 "cells": [
  {
   "attachments": {},
   "cell_type": "markdown",
   "metadata": {},
   "source": [
    "## Assignment 1\n",
    "### Name: Anuguru Parthiv Reddy\n",
    "### Roll Number: 21CS10006"
   ]
  },
  {
   "cell_type": "code",
   "execution_count": 21,
   "metadata": {},
   "outputs": [],
   "source": [
    "# import all the necessary libraries here\n",
    "import pandas as pd\n",
    "import numpy as np\n",
    "import math\n",
    "import matplotlib as plt\n",
    "from sklearn.preprocessing import LabelEncoder\n",
    "from sklearn.preprocessing import StandardScaler\n",
    "from sklearn.model_selection import train_test_split\n",
    "from sklearn.linear_model import LogisticRegression"
   ]
  },
  {
   "cell_type": "code",
   "execution_count": 22,
   "metadata": {},
   "outputs": [
    {
     "name": "stdout",
     "output_type": "stream",
     "text": [
      "    Loan_ID Gender Married Dependents     Education Self_Employed  \\\n",
      "0  LP001002   Male      No          0      Graduate            No   \n",
      "1  LP001003   Male     Yes          1      Graduate            No   \n",
      "2  LP001005   Male     Yes          0      Graduate           Yes   \n",
      "3  LP001006   Male     Yes          0  Not Graduate            No   \n",
      "4  LP001008   Male      No          0      Graduate            No   \n",
      "\n",
      "   ApplicantIncome  CoapplicantIncome  LoanAmount  Loan_Amount_Term  \\\n",
      "0             5849                0.0         NaN             360.0   \n",
      "1             4583             1508.0       128.0             360.0   \n",
      "2             3000                0.0        66.0             360.0   \n",
      "3             2583             2358.0       120.0             360.0   \n",
      "4             6000                0.0       141.0             360.0   \n",
      "\n",
      "   Credit_History Property_Area Loan_Status  \n",
      "0             1.0         Urban           Y  \n",
      "1             1.0         Rural           N  \n",
      "2             1.0         Urban           Y  \n",
      "3             1.0         Urban           Y  \n",
      "4             1.0         Urban           Y  \n"
     ]
    }
   ],
   "source": [
    "df = pd.read_csv('../../dataset/cross-validation.csv')\n",
    "print(df.head()) "
   ]
  },
  {
   "cell_type": "code",
   "execution_count": 23,
   "metadata": {},
   "outputs": [
    {
     "name": "stdout",
     "output_type": "stream",
     "text": [
      "     Gender  Married  Dependents  Education  Self_Employed  ApplicantIncome  \\\n",
      "1         1        1           1          0              0             4583   \n",
      "2         1        1           0          0              1             3000   \n",
      "3         1        1           0          1              0             2583   \n",
      "4         1        0           0          0              0             6000   \n",
      "5         1        1           2          0              1             5417   \n",
      "..      ...      ...         ...        ...            ...              ...   \n",
      "609       0        0           0          0              0             2900   \n",
      "610       1        1           3          0              0             4106   \n",
      "611       1        1           1          0              0             8072   \n",
      "612       1        1           2          0              0             7583   \n",
      "613       0        0           0          0              1             4583   \n",
      "\n",
      "     CoapplicantIncome  LoanAmount  Loan_Amount_Term  Credit_History  \\\n",
      "1               1508.0       128.0             360.0             1.0   \n",
      "2                  0.0        66.0             360.0             1.0   \n",
      "3               2358.0       120.0             360.0             1.0   \n",
      "4                  0.0       141.0             360.0             1.0   \n",
      "5               4196.0       267.0             360.0             1.0   \n",
      "..                 ...         ...               ...             ...   \n",
      "609                0.0        71.0             360.0             1.0   \n",
      "610                0.0        40.0             180.0             1.0   \n",
      "611              240.0       253.0             360.0             1.0   \n",
      "612                0.0       187.0             360.0             1.0   \n",
      "613                0.0       133.0             360.0             0.0   \n",
      "\n",
      "     Property_Area  Loan_Status  \n",
      "1                0            0  \n",
      "2                2            1  \n",
      "3                2            1  \n",
      "4                2            1  \n",
      "5                2            1  \n",
      "..             ...          ...  \n",
      "609              0            1  \n",
      "610              0            1  \n",
      "611              2            1  \n",
      "612              2            1  \n",
      "613              1            0  \n",
      "\n",
      "[480 rows x 12 columns]\n"
     ]
    }
   ],
   "source": [
    "# Load and preprocess your data\n",
    "# Replace missing values with mean or median\n",
    "df.drop('Loan_ID',axis=1,inplace=True)\n",
    "df.dropna(inplace=True)\n",
    "# Encode categorical variables using Label Encoding\n",
    "label_encoder = LabelEncoder()\n",
    "df['Education'] = label_encoder.fit_transform(df['Education'])\n",
    "df['Married'] = label_encoder.fit_transform(df['Married'])\n",
    "df['Loan_Status'] = label_encoder.fit_transform(df['Loan_Status'])\n",
    "df['Property_Area'] = label_encoder.fit_transform(df['Property_Area'])\n",
    "df['Gender'] = label_encoder.fit_transform(df['Gender'])\n",
    "df['Self_Employed'] = label_encoder.fit_transform(df['Self_Employed'])\n",
    "\n",
    "df['Dependents'] = df['Dependents'].str.replace('+', '', regex=False).astype(int)\n",
    "\n",
    "# Split the dataset into features (X) and target (y)\n",
    "\n",
    "X = df.drop('Loan_Status', axis=1)\n",
    "y = df['Loan_Status']\n",
    "# Split the dataset into 80% training and 20% testing\n",
    "X_train, X_test, y_train, y_test = train_test_split(X, y, test_size=0.2, random_state=42)\n",
    "print(df)"
   ]
  },
  {
   "cell_type": "code",
   "execution_count": 24,
   "metadata": {},
   "outputs": [
    {
     "name": "stdout",
     "output_type": "stream",
     "text": [
      "fold: 1 precision_score: 0.7313432835820896 accuracy_score: 0.75 recall_score: 0.98\n",
      "fold: 2 precision_score: 0.847457627118644 accuracy_score: 0.8421052631578947 recall_score: 0.9433962264150944\n",
      "fold: 3 precision_score: 0.803030303030303 accuracy_score: 0.8026315789473685 recall_score: 0.9636363636363636\n",
      "fold: 4 precision_score: 0.7692307692307693 accuracy_score: 0.7763157894736842 recall_score: 0.9615384615384616\n",
      "fold: 5 precision_score: 0.7936507936507936 accuracy_score: 0.8289473684210527 recall_score: 1.0\n",
      "Accuracy: 0.8\n",
      "Precision: 0.7889425553225198\n",
      "Recall: 0.9697142103179839\n"
     ]
    }
   ],
   "source": [
    "# Normalize/Regularize data\n",
    "scaler = StandardScaler()\n",
    "x_train = scaler.fit_transform(X_train)\n",
    "x_test = scaler.transform(X_test)\n",
    "\n",
    "# Train a Logistic Regression model\n",
    "model = LogisticRegression(solver='saga', penalty=None, random_state=42)\n",
    "model.fit(x_train, y_train)\n",
    "\n",
    "# Manually implement K-fold cross-validation\n",
    "k = 5  # Number of folds\n",
    "fold_size = len(x_train) // k\n",
    "\n",
    "accuracy_list = []\n",
    "precision_list = []\n",
    "recall_list = []\n",
    "\n",
    "for i in range(k):\n",
    "    start_idx = i * fold_size\n",
    "    end_idx = (i + 1) * fold_size\n",
    "\n",
    "    x_val_fold = x_train[start_idx:end_idx]\n",
    "    y_val_fold = y_train[start_idx:end_idx]\n",
    "\n",
    "    x_train_fold = np.concatenate([x_train[:start_idx], x_train[end_idx:]])\n",
    "    y_train_fold = np.concatenate([y_train[:start_idx], y_train[end_idx:]])\n",
    "\n",
    "    # Train the model on the training folds\n",
    "    model.fit(x_train_fold, y_train_fold)\n",
    "\n",
    "    # Predict on the validation fold\n",
    "    y_pred = model.predict(x_val_fold)\n",
    "\n",
    "    # Calculate metrics\n",
    "    accuracy = (y_pred == y_val_fold).mean()\n",
    "    accuracy_list.append(accuracy)\n",
    "\n",
    "    true_positive = np.sum((y_pred == 1) & (y_val_fold == 1))\n",
    "    false_positive = np.sum((y_pred == 1) & (y_val_fold == 0))\n",
    "    true_negative = np.sum((y_pred == 0) & (y_val_fold == 0))\n",
    "    false_negative = np.sum((y_pred == 0) & (y_val_fold == 1))\n",
    "\n",
    "    precision = true_positive / (true_positive + false_positive)\n",
    "    precision_list.append(precision)\n",
    "\n",
    "    recall = true_positive / (true_positive + false_negative)\n",
    "    recall_list.append(recall)\n",
    "\n",
    "    # Calculate mean metrics\n",
    "    print(\"fold:\", i + 1, \"precision_score:\", precision, \"accuracy_score:\", accuracy, \"recall_score:\", recall)\n",
    "\n",
    "mean_accuracy = np.mean(accuracy_list)\n",
    "mean_precision = np.mean(precision_list)\n",
    "mean_recall = np.mean(recall_list)\n",
    "\n",
    "print(\"Accuracy:\", mean_accuracy)\n",
    "print(\"Precision:\", mean_precision)\n",
    "print(\"Recall:\", mean_recall)"
   ]
  }
 ],
 "metadata": {
  "kernelspec": {
   "display_name": "base",
   "language": "python",
   "name": "python3"
  },
  "language_info": {
   "codemirror_mode": {
    "name": "ipython",
    "version": 3
   },
   "file_extension": ".py",
   "mimetype": "text/x-python",
   "name": "python",
   "nbconvert_exporter": "python",
   "pygments_lexer": "ipython3",
   "version": "3.10.4"
  },
  "orig_nbformat": 4,
  "vscode": {
   "interpreter": {
    "hash": "3067ead486e059ec00ffe7555bdb889e6e264a24dc711bf108106cc7baee8d5d"
   }
  }
 },
 "nbformat": 4,
 "nbformat_minor": 2
}
